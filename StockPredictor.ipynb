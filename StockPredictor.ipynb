{
 "cells": [
  {
   "cell_type": "code",
   "execution_count": 2,
   "id": "c9985f9d-d80e-4660-a545-d485200e5dba",
   "metadata": {},
   "outputs": [],
   "source": [
    "import numpy as np\n",
    "import pandas as pd\n",
    "import matplotlib.pyplot as plt\n",
    "import statsmodels.api as sm\n",
    "import datetime as dt\n",
    "import seaborn as sns\n",
    "sns.set()"
   ]
  },
  {
   "cell_type": "code",
   "execution_count": 3,
   "id": "a689072b-6208-4e6d-a24a-a421cec90d61",
   "metadata": {},
   "outputs": [],
   "source": [
    "data = pd.read_csv('AAPL.csv')"
   ]
  },
  {
   "cell_type": "code",
   "execution_count": 4,
   "id": "ac1b11cb-9b2d-4a38-ab64-0555e76bad99",
   "metadata": {},
   "outputs": [
    {
     "data": {
      "text/html": [
       "<div>\n",
       "<style scoped>\n",
       "    .dataframe tbody tr th:only-of-type {\n",
       "        vertical-align: middle;\n",
       "    }\n",
       "\n",
       "    .dataframe tbody tr th {\n",
       "        vertical-align: top;\n",
       "    }\n",
       "\n",
       "    .dataframe thead th {\n",
       "        text-align: right;\n",
       "    }\n",
       "</style>\n",
       "<table border=\"1\" class=\"dataframe\">\n",
       "  <thead>\n",
       "    <tr style=\"text-align: right;\">\n",
       "      <th></th>\n",
       "      <th>Date</th>\n",
       "      <th>Open</th>\n",
       "      <th>High</th>\n",
       "      <th>Low</th>\n",
       "      <th>Close</th>\n",
       "      <th>Adj Close</th>\n",
       "      <th>Volume</th>\n",
       "    </tr>\n",
       "  </thead>\n",
       "  <tbody>\n",
       "    <tr>\n",
       "      <th>0</th>\n",
       "      <td>1980-12-12</td>\n",
       "      <td>0.513393</td>\n",
       "      <td>0.515625</td>\n",
       "      <td>0.513393</td>\n",
       "      <td>0.513393</td>\n",
       "      <td>0.406782</td>\n",
       "      <td>117258400</td>\n",
       "    </tr>\n",
       "    <tr>\n",
       "      <th>1</th>\n",
       "      <td>1980-12-15</td>\n",
       "      <td>0.488839</td>\n",
       "      <td>0.488839</td>\n",
       "      <td>0.486607</td>\n",
       "      <td>0.486607</td>\n",
       "      <td>0.385558</td>\n",
       "      <td>43971200</td>\n",
       "    </tr>\n",
       "    <tr>\n",
       "      <th>2</th>\n",
       "      <td>1980-12-16</td>\n",
       "      <td>0.453125</td>\n",
       "      <td>0.453125</td>\n",
       "      <td>0.450893</td>\n",
       "      <td>0.450893</td>\n",
       "      <td>0.357260</td>\n",
       "      <td>26432000</td>\n",
       "    </tr>\n",
       "    <tr>\n",
       "      <th>3</th>\n",
       "      <td>1980-12-17</td>\n",
       "      <td>0.462054</td>\n",
       "      <td>0.464286</td>\n",
       "      <td>0.462054</td>\n",
       "      <td>0.462054</td>\n",
       "      <td>0.366103</td>\n",
       "      <td>21610400</td>\n",
       "    </tr>\n",
       "    <tr>\n",
       "      <th>4</th>\n",
       "      <td>1980-12-18</td>\n",
       "      <td>0.475446</td>\n",
       "      <td>0.477679</td>\n",
       "      <td>0.475446</td>\n",
       "      <td>0.475446</td>\n",
       "      <td>0.376715</td>\n",
       "      <td>18362400</td>\n",
       "    </tr>\n",
       "  </tbody>\n",
       "</table>\n",
       "</div>"
      ],
      "text/plain": [
       "         Date      Open      High       Low     Close  Adj Close     Volume\n",
       "0  1980-12-12  0.513393  0.515625  0.513393  0.513393   0.406782  117258400\n",
       "1  1980-12-15  0.488839  0.488839  0.486607  0.486607   0.385558   43971200\n",
       "2  1980-12-16  0.453125  0.453125  0.450893  0.450893   0.357260   26432000\n",
       "3  1980-12-17  0.462054  0.464286  0.462054  0.462054   0.366103   21610400\n",
       "4  1980-12-18  0.475446  0.477679  0.475446  0.475446   0.376715   18362400"
      ]
     },
     "execution_count": 4,
     "metadata": {},
     "output_type": "execute_result"
    }
   ],
   "source": [
    "data.head()"
   ]
  },
  {
   "cell_type": "code",
   "execution_count": 5,
   "id": "74316d6a-0919-4ac6-8c09-2cb8ac5b28f1",
   "metadata": {},
   "outputs": [
    {
     "data": {
      "text/html": [
       "<div>\n",
       "<style scoped>\n",
       "    .dataframe tbody tr th:only-of-type {\n",
       "        vertical-align: middle;\n",
       "    }\n",
       "\n",
       "    .dataframe tbody tr th {\n",
       "        vertical-align: top;\n",
       "    }\n",
       "\n",
       "    .dataframe thead th {\n",
       "        text-align: right;\n",
       "    }\n",
       "</style>\n",
       "<table border=\"1\" class=\"dataframe\">\n",
       "  <thead>\n",
       "    <tr style=\"text-align: right;\">\n",
       "      <th></th>\n",
       "      <th>Date</th>\n",
       "      <th>Open</th>\n",
       "      <th>High</th>\n",
       "      <th>Low</th>\n",
       "      <th>Close</th>\n",
       "      <th>Adj Close</th>\n",
       "      <th>Volume</th>\n",
       "    </tr>\n",
       "  </thead>\n",
       "  <tbody>\n",
       "    <tr>\n",
       "      <th>9904</th>\n",
       "      <td>2020-03-26</td>\n",
       "      <td>246.520004</td>\n",
       "      <td>258.679993</td>\n",
       "      <td>246.360001</td>\n",
       "      <td>258.440002</td>\n",
       "      <td>258.440002</td>\n",
       "      <td>63021800</td>\n",
       "    </tr>\n",
       "    <tr>\n",
       "      <th>9905</th>\n",
       "      <td>2020-03-27</td>\n",
       "      <td>252.750000</td>\n",
       "      <td>255.869995</td>\n",
       "      <td>247.050003</td>\n",
       "      <td>247.740005</td>\n",
       "      <td>247.740005</td>\n",
       "      <td>51054200</td>\n",
       "    </tr>\n",
       "    <tr>\n",
       "      <th>9906</th>\n",
       "      <td>2020-03-30</td>\n",
       "      <td>250.740005</td>\n",
       "      <td>255.520004</td>\n",
       "      <td>249.399994</td>\n",
       "      <td>254.809998</td>\n",
       "      <td>254.809998</td>\n",
       "      <td>41994100</td>\n",
       "    </tr>\n",
       "    <tr>\n",
       "      <th>9907</th>\n",
       "      <td>2020-03-31</td>\n",
       "      <td>255.600006</td>\n",
       "      <td>262.489990</td>\n",
       "      <td>252.000000</td>\n",
       "      <td>254.289993</td>\n",
       "      <td>254.289993</td>\n",
       "      <td>49250500</td>\n",
       "    </tr>\n",
       "    <tr>\n",
       "      <th>9908</th>\n",
       "      <td>2020-04-01</td>\n",
       "      <td>246.500000</td>\n",
       "      <td>248.720001</td>\n",
       "      <td>239.130005</td>\n",
       "      <td>240.910004</td>\n",
       "      <td>240.910004</td>\n",
       "      <td>43956200</td>\n",
       "    </tr>\n",
       "  </tbody>\n",
       "</table>\n",
       "</div>"
      ],
      "text/plain": [
       "            Date        Open        High         Low       Close   Adj Close  \\\n",
       "9904  2020-03-26  246.520004  258.679993  246.360001  258.440002  258.440002   \n",
       "9905  2020-03-27  252.750000  255.869995  247.050003  247.740005  247.740005   \n",
       "9906  2020-03-30  250.740005  255.520004  249.399994  254.809998  254.809998   \n",
       "9907  2020-03-31  255.600006  262.489990  252.000000  254.289993  254.289993   \n",
       "9908  2020-04-01  246.500000  248.720001  239.130005  240.910004  240.910004   \n",
       "\n",
       "        Volume  \n",
       "9904  63021800  \n",
       "9905  51054200  \n",
       "9906  41994100  \n",
       "9907  49250500  \n",
       "9908  43956200  "
      ]
     },
     "execution_count": 5,
     "metadata": {},
     "output_type": "execute_result"
    }
   ],
   "source": [
    "data.tail()"
   ]
  },
  {
   "cell_type": "code",
   "execution_count": 6,
   "id": "42f5f3aa-5b04-494f-b1cf-69e692e68ee7",
   "metadata": {},
   "outputs": [
    {
     "data": {
      "text/html": [
       "<div>\n",
       "<style scoped>\n",
       "    .dataframe tbody tr th:only-of-type {\n",
       "        vertical-align: middle;\n",
       "    }\n",
       "\n",
       "    .dataframe tbody tr th {\n",
       "        vertical-align: top;\n",
       "    }\n",
       "\n",
       "    .dataframe thead th {\n",
       "        text-align: right;\n",
       "    }\n",
       "</style>\n",
       "<table border=\"1\" class=\"dataframe\">\n",
       "  <thead>\n",
       "    <tr style=\"text-align: right;\">\n",
       "      <th></th>\n",
       "      <th>Open</th>\n",
       "      <th>High</th>\n",
       "      <th>Low</th>\n",
       "      <th>Close</th>\n",
       "      <th>Adj Close</th>\n",
       "      <th>Volume</th>\n",
       "    </tr>\n",
       "  </thead>\n",
       "  <tbody>\n",
       "    <tr>\n",
       "      <th>count</th>\n",
       "      <td>9909.000000</td>\n",
       "      <td>9909.000000</td>\n",
       "      <td>9909.000000</td>\n",
       "      <td>9909.000000</td>\n",
       "      <td>9909.000000</td>\n",
       "      <td>9.909000e+03</td>\n",
       "    </tr>\n",
       "    <tr>\n",
       "      <th>mean</th>\n",
       "      <td>32.606849</td>\n",
       "      <td>32.936079</td>\n",
       "      <td>32.277560</td>\n",
       "      <td>32.618030</td>\n",
       "      <td>30.576570</td>\n",
       "      <td>8.582916e+07</td>\n",
       "    </tr>\n",
       "    <tr>\n",
       "      <th>std</th>\n",
       "      <td>58.415759</td>\n",
       "      <td>59.001576</td>\n",
       "      <td>57.883037</td>\n",
       "      <td>58.471899</td>\n",
       "      <td>56.746275</td>\n",
       "      <td>8.597195e+07</td>\n",
       "    </tr>\n",
       "    <tr>\n",
       "      <th>min</th>\n",
       "      <td>0.198661</td>\n",
       "      <td>0.198661</td>\n",
       "      <td>0.196429</td>\n",
       "      <td>0.196429</td>\n",
       "      <td>0.155638</td>\n",
       "      <td>3.472000e+05</td>\n",
       "    </tr>\n",
       "    <tr>\n",
       "      <th>25%</th>\n",
       "      <td>1.071429</td>\n",
       "      <td>1.089286</td>\n",
       "      <td>1.048571</td>\n",
       "      <td>1.071429</td>\n",
       "      <td>0.917643</td>\n",
       "      <td>3.304230e+07</td>\n",
       "    </tr>\n",
       "    <tr>\n",
       "      <th>50%</th>\n",
       "      <td>1.729286</td>\n",
       "      <td>1.758929</td>\n",
       "      <td>1.696429</td>\n",
       "      <td>1.732143</td>\n",
       "      <td>1.466154</td>\n",
       "      <td>5.766490e+07</td>\n",
       "    </tr>\n",
       "    <tr>\n",
       "      <th>75%</th>\n",
       "      <td>35.799999</td>\n",
       "      <td>36.265713</td>\n",
       "      <td>35.328571</td>\n",
       "      <td>35.761429</td>\n",
       "      <td>31.042374</td>\n",
       "      <td>1.069992e+08</td>\n",
       "    </tr>\n",
       "    <tr>\n",
       "      <th>max</th>\n",
       "      <td>324.739990</td>\n",
       "      <td>327.850006</td>\n",
       "      <td>323.350006</td>\n",
       "      <td>327.200012</td>\n",
       "      <td>327.200012</td>\n",
       "      <td>1.855410e+09</td>\n",
       "    </tr>\n",
       "  </tbody>\n",
       "</table>\n",
       "</div>"
      ],
      "text/plain": [
       "              Open         High          Low        Close    Adj Close  \\\n",
       "count  9909.000000  9909.000000  9909.000000  9909.000000  9909.000000   \n",
       "mean     32.606849    32.936079    32.277560    32.618030    30.576570   \n",
       "std      58.415759    59.001576    57.883037    58.471899    56.746275   \n",
       "min       0.198661     0.198661     0.196429     0.196429     0.155638   \n",
       "25%       1.071429     1.089286     1.048571     1.071429     0.917643   \n",
       "50%       1.729286     1.758929     1.696429     1.732143     1.466154   \n",
       "75%      35.799999    36.265713    35.328571    35.761429    31.042374   \n",
       "max     324.739990   327.850006   323.350006   327.200012   327.200012   \n",
       "\n",
       "             Volume  \n",
       "count  9.909000e+03  \n",
       "mean   8.582916e+07  \n",
       "std    8.597195e+07  \n",
       "min    3.472000e+05  \n",
       "25%    3.304230e+07  \n",
       "50%    5.766490e+07  \n",
       "75%    1.069992e+08  \n",
       "max    1.855410e+09  "
      ]
     },
     "execution_count": 6,
     "metadata": {},
     "output_type": "execute_result"
    }
   ],
   "source": [
    "data.describe()"
   ]
  },
  {
   "cell_type": "markdown",
   "id": "d953b826-fa81-40cd-b1f3-fa3fb035d819",
   "metadata": {
    "tags": []
   },
   "source": [
    "## dataset info:\n",
    "\n",
    "* the data covers 9909 days of the market.\n",
    "* the holidays in which the market is closed are ommited.\n",
    "* the data is from 1980/12/12 (Apple makes its initial public offering on the US stock market this day) until 2020/4/1\n",
    "\n",
    "## Columns information\n",
    "\n",
    "* Date: specifies trading date\n",
    "* Open: opening price\n",
    "* High: maximum price during the day\n",
    "* Low: minimum price during the day\n",
    "* Close: close price adjusted for splits\n",
    "* Adj Close: adjusted close price adjusted for both dividends and splits.\n",
    "* Volume: the number of shares that changed hands during a given day"
   ]
  },
  {
   "cell_type": "markdown",
   "id": "00bbd5d1-31c8-48b6-b88c-712126cf412e",
   "metadata": {
    "tags": []
   },
   "source": [
    "## Data Demonstration"
   ]
  },
  {
   "cell_type": "code",
   "execution_count": 7,
   "id": "3199dda3-459f-4f89-a5c8-b126d9ff3020",
   "metadata": {},
   "outputs": [
    {
     "data": {
      "image/png": "[encoded data removed]",
      "text/plain": [
       "<Figure size 640x480 with 1 Axes>"
      ]
     },
     "metadata": {},
     "output_type": "display_data"
    }
   ],
   "source": [
    "date = pd.to_datetime(data ['Date'], format = '%Y-%m-%d')\n",
    "plt.plot(date, data ['Close'])\n",
    "plt.xlabel('Date', fontsize = 15)\n",
    "plt.ylabel('Close Price', fontsize = 15)\n",
    "plt.show()"
   ]
  },
  {
   "cell_type": "markdown",
   "id": "6bc671c8-2261-453d-adfb-f6cf29a587fd",
   "metadata": {},
   "source": [
    "## Cleaning data\n",
    "we condsider data of (2019-1-2 to the end) as test data and (2005-01-03 to 2019-01-02) as learning data"
   ]
  },
  {
   "cell_type": "code",
   "execution_count": 8,
   "id": "7afb3af4-a256-4248-9dbf-71f211089569",
   "metadata": {},
   "outputs": [],
   "source": [
    "train_data = data[data.index[data ['Date'] == '2005-01-03'][0]:data.index[data ['Date'] == '2019-01-02'][0]]\n",
    "test_data = data[data.index[data ['Date'] == '2019-01-03'][0]:]\n",
    "all_data = data[data.index[data ['Date'] == '2005-01-03'][0]:]\n",
    "all_data_date = pd.to_datetime(all_data ['Date'], format = '%Y-%m-%d')\n",
    "all_data_date_numerical = all_data_date.map(dt.datetime.toordinal)"
   ]
  },
  {
   "cell_type": "code",
   "execution_count": 9,
   "id": "29b8c6c2-26d9-4750-abc9-d5b8d0950d91",
   "metadata": {},
   "outputs": [
    {
     "data": {
      "text/html": [
       "<div>\n",
       "<style scoped>\n",
       "    .dataframe tbody tr th:only-of-type {\n",
       "        vertical-align: middle;\n",
       "    }\n",
       "\n",
       "    .dataframe tbody tr th {\n",
       "        vertical-align: top;\n",
       "    }\n",
       "\n",
       "    .dataframe thead th {\n",
       "        text-align: right;\n",
       "    }\n",
       "</style>\n",
       "<table border=\"1\" class=\"dataframe\">\n",
       "  <thead>\n",
       "    <tr style=\"text-align: right;\">\n",
       "      <th></th>\n",
       "      <th>Date</th>\n",
       "      <th>Open</th>\n",
       "      <th>High</th>\n",
       "      <th>Low</th>\n",
       "      <th>Close</th>\n",
       "      <th>Adj Close</th>\n",
       "      <th>Volume</th>\n",
       "    </tr>\n",
       "  </thead>\n",
       "  <tbody>\n",
       "    <tr>\n",
       "      <th>6071</th>\n",
       "      <td>2005-01-03</td>\n",
       "      <td>4.627143</td>\n",
       "      <td>4.650714</td>\n",
       "      <td>4.471428</td>\n",
       "      <td>4.520714</td>\n",
       "      <td>3.924165</td>\n",
       "      <td>172998000</td>\n",
       "    </tr>\n",
       "    <tr>\n",
       "      <th>6072</th>\n",
       "      <td>2005-01-04</td>\n",
       "      <td>4.556428</td>\n",
       "      <td>4.676429</td>\n",
       "      <td>4.497857</td>\n",
       "      <td>4.567143</td>\n",
       "      <td>3.964467</td>\n",
       "      <td>274202600</td>\n",
       "    </tr>\n",
       "    <tr>\n",
       "      <th>6073</th>\n",
       "      <td>2005-01-05</td>\n",
       "      <td>4.604286</td>\n",
       "      <td>4.660714</td>\n",
       "      <td>4.575000</td>\n",
       "      <td>4.607143</td>\n",
       "      <td>3.999188</td>\n",
       "      <td>170108400</td>\n",
       "    </tr>\n",
       "    <tr>\n",
       "      <th>6074</th>\n",
       "      <td>2005-01-06</td>\n",
       "      <td>4.619286</td>\n",
       "      <td>4.636428</td>\n",
       "      <td>4.523571</td>\n",
       "      <td>4.610714</td>\n",
       "      <td>4.002288</td>\n",
       "      <td>176388800</td>\n",
       "    </tr>\n",
       "    <tr>\n",
       "      <th>6075</th>\n",
       "      <td>2005-01-07</td>\n",
       "      <td>4.642857</td>\n",
       "      <td>4.973571</td>\n",
       "      <td>4.625000</td>\n",
       "      <td>4.946429</td>\n",
       "      <td>4.293701</td>\n",
       "      <td>556862600</td>\n",
       "    </tr>\n",
       "  </tbody>\n",
       "</table>\n",
       "</div>"
      ],
      "text/plain": [
       "            Date      Open      High       Low     Close  Adj Close     Volume\n",
       "6071  2005-01-03  4.627143  4.650714  4.471428  4.520714   3.924165  172998000\n",
       "6072  2005-01-04  4.556428  4.676429  4.497857  4.567143   3.964467  274202600\n",
       "6073  2005-01-05  4.604286  4.660714  4.575000  4.607143   3.999188  170108400\n",
       "6074  2005-01-06  4.619286  4.636428  4.523571  4.610714   4.002288  176388800\n",
       "6075  2005-01-07  4.642857  4.973571  4.625000  4.946429   4.293701  556862600"
      ]
     },
     "execution_count": 9,
     "metadata": {},
     "output_type": "execute_result"
    }
   ],
   "source": [
    "train_data.head()"
   ]
  },
  {
   "cell_type": "code",
   "execution_count": 10,
   "id": "09a2731a-a176-437a-bdee-b9ed81824191",
   "metadata": {},
   "outputs": [
    {
     "data": {
      "text/html": [
       "<div>\n",
       "<style scoped>\n",
       "    .dataframe tbody tr th:only-of-type {\n",
       "        vertical-align: middle;\n",
       "    }\n",
       "\n",
       "    .dataframe tbody tr th {\n",
       "        vertical-align: top;\n",
       "    }\n",
       "\n",
       "    .dataframe thead th {\n",
       "        text-align: right;\n",
       "    }\n",
       "</style>\n",
       "<table border=\"1\" class=\"dataframe\">\n",
       "  <thead>\n",
       "    <tr style=\"text-align: right;\">\n",
       "      <th></th>\n",
       "      <th>Date</th>\n",
       "      <th>Open</th>\n",
       "      <th>High</th>\n",
       "      <th>Low</th>\n",
       "      <th>Close</th>\n",
       "      <th>Adj Close</th>\n",
       "      <th>Volume</th>\n",
       "    </tr>\n",
       "  </thead>\n",
       "  <tbody>\n",
       "    <tr>\n",
       "      <th>9595</th>\n",
       "      <td>2019-01-03</td>\n",
       "      <td>143.979996</td>\n",
       "      <td>145.720001</td>\n",
       "      <td>142.000000</td>\n",
       "      <td>142.190002</td>\n",
       "      <td>139.753540</td>\n",
       "      <td>91312200</td>\n",
       "    </tr>\n",
       "    <tr>\n",
       "      <th>9596</th>\n",
       "      <td>2019-01-04</td>\n",
       "      <td>144.529999</td>\n",
       "      <td>148.550003</td>\n",
       "      <td>143.800003</td>\n",
       "      <td>148.259995</td>\n",
       "      <td>145.719513</td>\n",
       "      <td>58607100</td>\n",
       "    </tr>\n",
       "    <tr>\n",
       "      <th>9597</th>\n",
       "      <td>2019-01-07</td>\n",
       "      <td>148.699997</td>\n",
       "      <td>148.830002</td>\n",
       "      <td>145.899994</td>\n",
       "      <td>147.929993</td>\n",
       "      <td>145.395203</td>\n",
       "      <td>54777800</td>\n",
       "    </tr>\n",
       "    <tr>\n",
       "      <th>9598</th>\n",
       "      <td>2019-01-08</td>\n",
       "      <td>149.559998</td>\n",
       "      <td>151.820007</td>\n",
       "      <td>148.520004</td>\n",
       "      <td>150.750000</td>\n",
       "      <td>148.166870</td>\n",
       "      <td>41025300</td>\n",
       "    </tr>\n",
       "    <tr>\n",
       "      <th>9599</th>\n",
       "      <td>2019-01-09</td>\n",
       "      <td>151.289993</td>\n",
       "      <td>154.529999</td>\n",
       "      <td>149.630005</td>\n",
       "      <td>153.309998</td>\n",
       "      <td>150.682983</td>\n",
       "      <td>45099100</td>\n",
       "    </tr>\n",
       "  </tbody>\n",
       "</table>\n",
       "</div>"
      ],
      "text/plain": [
       "            Date        Open        High         Low       Close   Adj Close  \\\n",
       "9595  2019-01-03  143.979996  145.720001  142.000000  142.190002  139.753540   \n",
       "9596  2019-01-04  144.529999  148.550003  143.800003  148.259995  145.719513   \n",
       "9597  2019-01-07  148.699997  148.830002  145.899994  147.929993  145.395203   \n",
       "9598  2019-01-08  149.559998  151.820007  148.520004  150.750000  148.166870   \n",
       "9599  2019-01-09  151.289993  154.529999  149.630005  153.309998  150.682983   \n",
       "\n",
       "        Volume  \n",
       "9595  91312200  \n",
       "9596  58607100  \n",
       "9597  54777800  \n",
       "9598  41025300  \n",
       "9599  45099100  "
      ]
     },
     "execution_count": 10,
     "metadata": {},
     "output_type": "execute_result"
    }
   ],
   "source": [
    "test_data.head()"
   ]
  },
  {
   "cell_type": "markdown",
   "id": "6ed2d4c4-d84e-4c29-b06f-d5ebf5f410a6",
   "metadata": {},
   "source": [
    "## Print the Clean Data"
   ]
  },
  {
   "cell_type": "code",
   "execution_count": 82,
   "id": "8119516b-a2b7-43dd-9e88-28a409782a77",
   "metadata": {},
   "outputs": [],
   "source": [
    "import mplfinance as mpf"
   ]
  },
  {
   "cell_type": "code",
   "execution_count": 110,
   "id": "5d8d9dfc-0ca7-484f-9cd7-c48e45693fc6",
   "metadata": {},
   "outputs": [
    {
     "data": {
      "text/html": [
       "<div>\n",
       "<style scoped>\n",
       "    .dataframe tbody tr th:only-of-type {\n",
       "        vertical-align: middle;\n",
       "    }\n",
       "\n",
       "    .dataframe tbody tr th {\n",
       "        vertical-align: top;\n",
       "    }\n",
       "\n",
       "    .dataframe thead th {\n",
       "        text-align: right;\n",
       "    }\n",
       "</style>\n",
       "<table border=\"1\" class=\"dataframe\">\n",
       "  <thead>\n",
       "    <tr style=\"text-align: right;\">\n",
       "      <th></th>\n",
       "      <th>Open</th>\n",
       "      <th>High</th>\n",
       "      <th>Low</th>\n",
       "      <th>Close</th>\n",
       "      <th>Volume</th>\n",
       "    </tr>\n",
       "    <tr>\n",
       "      <th>Date</th>\n",
       "      <th></th>\n",
       "      <th></th>\n",
       "      <th></th>\n",
       "      <th></th>\n",
       "      <th></th>\n",
       "    </tr>\n",
       "  </thead>\n",
       "  <tbody>\n",
       "    <tr>\n",
       "      <th>2005-01-03</th>\n",
       "      <td>4.627143</td>\n",
       "      <td>4.650714</td>\n",
       "      <td>4.471428</td>\n",
       "      <td>4.520714</td>\n",
       "      <td>172998000</td>\n",
       "    </tr>\n",
       "    <tr>\n",
       "      <th>2005-01-04</th>\n",
       "      <td>4.556428</td>\n",
       "      <td>4.676429</td>\n",
       "      <td>4.497857</td>\n",
       "      <td>4.567143</td>\n",
       "      <td>274202600</td>\n",
       "    </tr>\n",
       "    <tr>\n",
       "      <th>2005-01-05</th>\n",
       "      <td>4.604286</td>\n",
       "      <td>4.660714</td>\n",
       "      <td>4.575000</td>\n",
       "      <td>4.607143</td>\n",
       "      <td>170108400</td>\n",
       "    </tr>\n",
       "    <tr>\n",
       "      <th>2005-01-06</th>\n",
       "      <td>4.619286</td>\n",
       "      <td>4.636428</td>\n",
       "      <td>4.523571</td>\n",
       "      <td>4.610714</td>\n",
       "      <td>176388800</td>\n",
       "    </tr>\n",
       "    <tr>\n",
       "      <th>2005-01-07</th>\n",
       "      <td>4.642857</td>\n",
       "      <td>4.973571</td>\n",
       "      <td>4.625000</td>\n",
       "      <td>4.946429</td>\n",
       "      <td>556862600</td>\n",
       "    </tr>\n",
       "    <tr>\n",
       "      <th>...</th>\n",
       "      <td>...</td>\n",
       "      <td>...</td>\n",
       "      <td>...</td>\n",
       "      <td>...</td>\n",
       "      <td>...</td>\n",
       "    </tr>\n",
       "    <tr>\n",
       "      <th>2018-12-24</th>\n",
       "      <td>148.149994</td>\n",
       "      <td>151.550003</td>\n",
       "      <td>146.589996</td>\n",
       "      <td>146.830002</td>\n",
       "      <td>37169200</td>\n",
       "    </tr>\n",
       "    <tr>\n",
       "      <th>2018-12-26</th>\n",
       "      <td>148.300003</td>\n",
       "      <td>157.229996</td>\n",
       "      <td>146.720001</td>\n",
       "      <td>157.169998</td>\n",
       "      <td>58582500</td>\n",
       "    </tr>\n",
       "    <tr>\n",
       "      <th>2018-12-27</th>\n",
       "      <td>155.839996</td>\n",
       "      <td>156.770004</td>\n",
       "      <td>150.070007</td>\n",
       "      <td>156.149994</td>\n",
       "      <td>53117100</td>\n",
       "    </tr>\n",
       "    <tr>\n",
       "      <th>2018-12-28</th>\n",
       "      <td>157.500000</td>\n",
       "      <td>158.520004</td>\n",
       "      <td>154.550003</td>\n",
       "      <td>156.229996</td>\n",
       "      <td>42291400</td>\n",
       "    </tr>\n",
       "    <tr>\n",
       "      <th>2018-12-31</th>\n",
       "      <td>158.529999</td>\n",
       "      <td>159.360001</td>\n",
       "      <td>156.479996</td>\n",
       "      <td>157.740005</td>\n",
       "      <td>35003500</td>\n",
       "    </tr>\n",
       "  </tbody>\n",
       "</table>\n",
       "<p>3523 rows × 5 columns</p>\n",
       "</div>"
      ],
      "text/plain": [
       "                  Open        High         Low       Close     Volume\n",
       "Date                                                                 \n",
       "2005-01-03    4.627143    4.650714    4.471428    4.520714  172998000\n",
       "2005-01-04    4.556428    4.676429    4.497857    4.567143  274202600\n",
       "2005-01-05    4.604286    4.660714    4.575000    4.607143  170108400\n",
       "2005-01-06    4.619286    4.636428    4.523571    4.610714  176388800\n",
       "2005-01-07    4.642857    4.973571    4.625000    4.946429  556862600\n",
       "...                ...         ...         ...         ...        ...\n",
       "2018-12-24  148.149994  151.550003  146.589996  146.830002   37169200\n",
       "2018-12-26  148.300003  157.229996  146.720001  157.169998   58582500\n",
       "2018-12-27  155.839996  156.770004  150.070007  156.149994   53117100\n",
       "2018-12-28  157.500000  158.520004  154.550003  156.229996   42291400\n",
       "2018-12-31  158.529999  159.360001  156.479996  157.740005   35003500\n",
       "\n",
       "[3523 rows x 5 columns]"
      ]
     },
     "execution_count": 110,
     "metadata": {},
     "output_type": "execute_result"
    }
   ],
   "source": [
    "train_data_date = pd.to_datetime(train_data ['Date'], format = '%Y-%m-%d')\n",
    "ploting_train_data = pd.concat([train_data['Open'], train_data['High'], train_data['Low'], train_data['Close'], train_data['Volume']], axis =1)\n",
    "ploting_train_data.index = train_data_date\n",
    "ploting_train_data.index.name = 'Date'\n",
    "ploting_train_data"
   ]
  },
  {
   "cell_type": "code",
   "execution_count": 111,
   "id": "a5ca9f80-0421-4c00-a2df-8254854de0ca",
   "metadata": {},
   "outputs": [
    {
     "data": {
      "image/png": "[encoded data removed]",
      "text/plain": [
       "<Figure size 800x575 with 4 Axes>"
      ]
     },
     "metadata": {},
     "output_type": "display_data"
    }
   ],
   "source": [
    "mpf.plot(ploting_train_data,type='line', volume=True)"
   ]
  },
  {
   "cell_type": "code",
   "execution_count": 112,
   "id": "3433a8c7-7cb9-4f0c-b5b5-0bf5af4ad820",
   "metadata": {},
   "outputs": [
    {
     "data": {
      "text/html": [
       "<div>\n",
       "<style scoped>\n",
       "    .dataframe tbody tr th:only-of-type {\n",
       "        vertical-align: middle;\n",
       "    }\n",
       "\n",
       "    .dataframe tbody tr th {\n",
       "        vertical-align: top;\n",
       "    }\n",
       "\n",
       "    .dataframe thead th {\n",
       "        text-align: right;\n",
       "    }\n",
       "</style>\n",
       "<table border=\"1\" class=\"dataframe\">\n",
       "  <thead>\n",
       "    <tr style=\"text-align: right;\">\n",
       "      <th></th>\n",
       "      <th>Open</th>\n",
       "      <th>High</th>\n",
       "      <th>Low</th>\n",
       "      <th>Close</th>\n",
       "      <th>Volume</th>\n",
       "    </tr>\n",
       "    <tr>\n",
       "      <th>Date</th>\n",
       "      <th></th>\n",
       "      <th></th>\n",
       "      <th></th>\n",
       "      <th></th>\n",
       "      <th></th>\n",
       "    </tr>\n",
       "  </thead>\n",
       "  <tbody>\n",
       "    <tr>\n",
       "      <th>2019-01-03</th>\n",
       "      <td>143.979996</td>\n",
       "      <td>145.720001</td>\n",
       "      <td>142.000000</td>\n",
       "      <td>142.190002</td>\n",
       "      <td>91312200</td>\n",
       "    </tr>\n",
       "    <tr>\n",
       "      <th>2019-01-04</th>\n",
       "      <td>144.529999</td>\n",
       "      <td>148.550003</td>\n",
       "      <td>143.800003</td>\n",
       "      <td>148.259995</td>\n",
       "      <td>58607100</td>\n",
       "    </tr>\n",
       "    <tr>\n",
       "      <th>2019-01-07</th>\n",
       "      <td>148.699997</td>\n",
       "      <td>148.830002</td>\n",
       "      <td>145.899994</td>\n",
       "      <td>147.929993</td>\n",
       "      <td>54777800</td>\n",
       "    </tr>\n",
       "    <tr>\n",
       "      <th>2019-01-08</th>\n",
       "      <td>149.559998</td>\n",
       "      <td>151.820007</td>\n",
       "      <td>148.520004</td>\n",
       "      <td>150.750000</td>\n",
       "      <td>41025300</td>\n",
       "    </tr>\n",
       "    <tr>\n",
       "      <th>2019-01-09</th>\n",
       "      <td>151.289993</td>\n",
       "      <td>154.529999</td>\n",
       "      <td>149.630005</td>\n",
       "      <td>153.309998</td>\n",
       "      <td>45099100</td>\n",
       "    </tr>\n",
       "    <tr>\n",
       "      <th>...</th>\n",
       "      <td>...</td>\n",
       "      <td>...</td>\n",
       "      <td>...</td>\n",
       "      <td>...</td>\n",
       "      <td>...</td>\n",
       "    </tr>\n",
       "    <tr>\n",
       "      <th>2020-03-26</th>\n",
       "      <td>246.520004</td>\n",
       "      <td>258.679993</td>\n",
       "      <td>246.360001</td>\n",
       "      <td>258.440002</td>\n",
       "      <td>63021800</td>\n",
       "    </tr>\n",
       "    <tr>\n",
       "      <th>2020-03-27</th>\n",
       "      <td>252.750000</td>\n",
       "      <td>255.869995</td>\n",
       "      <td>247.050003</td>\n",
       "      <td>247.740005</td>\n",
       "      <td>51054200</td>\n",
       "    </tr>\n",
       "    <tr>\n",
       "      <th>2020-03-30</th>\n",
       "      <td>250.740005</td>\n",
       "      <td>255.520004</td>\n",
       "      <td>249.399994</td>\n",
       "      <td>254.809998</td>\n",
       "      <td>41994100</td>\n",
       "    </tr>\n",
       "    <tr>\n",
       "      <th>2020-03-31</th>\n",
       "      <td>255.600006</td>\n",
       "      <td>262.489990</td>\n",
       "      <td>252.000000</td>\n",
       "      <td>254.289993</td>\n",
       "      <td>49250500</td>\n",
       "    </tr>\n",
       "    <tr>\n",
       "      <th>2020-04-01</th>\n",
       "      <td>246.500000</td>\n",
       "      <td>248.720001</td>\n",
       "      <td>239.130005</td>\n",
       "      <td>240.910004</td>\n",
       "      <td>43956200</td>\n",
       "    </tr>\n",
       "  </tbody>\n",
       "</table>\n",
       "<p>314 rows × 5 columns</p>\n",
       "</div>"
      ],
      "text/plain": [
       "                  Open        High         Low       Close    Volume\n",
       "Date                                                                \n",
       "2019-01-03  143.979996  145.720001  142.000000  142.190002  91312200\n",
       "2019-01-04  144.529999  148.550003  143.800003  148.259995  58607100\n",
       "2019-01-07  148.699997  148.830002  145.899994  147.929993  54777800\n",
       "2019-01-08  149.559998  151.820007  148.520004  150.750000  41025300\n",
       "2019-01-09  151.289993  154.529999  149.630005  153.309998  45099100\n",
       "...                ...         ...         ...         ...       ...\n",
       "2020-03-26  246.520004  258.679993  246.360001  258.440002  63021800\n",
       "2020-03-27  252.750000  255.869995  247.050003  247.740005  51054200\n",
       "2020-03-30  250.740005  255.520004  249.399994  254.809998  41994100\n",
       "2020-03-31  255.600006  262.489990  252.000000  254.289993  49250500\n",
       "2020-04-01  246.500000  248.720001  239.130005  240.910004  43956200\n",
       "\n",
       "[314 rows x 5 columns]"
      ]
     },
     "execution_count": 112,
     "metadata": {},
     "output_type": "execute_result"
    }
   ],
   "source": [
    "test_data_date = pd.to_datetime(test_data ['Date'], format = '%Y-%m-%d')\n",
    "ploting_test_data = pd.concat([test_data['Open'], test_data['High'], test_data['Low'], test_data['Close'], test_data['Volume']], axis =1)\n",
    "ploting_test_data.index = test_data_date\n",
    "ploting_test_data.index.name = 'Date'\n",
    "ploting_test_data"
   ]
  },
  {
   "cell_type": "code",
   "execution_count": null,
   "id": "27f71e52-1646-4e9b-a8ce-90dc631379c1",
   "metadata": {},
   "outputs": [
    {
     "data": {
      "image/png": "[encoded data removed]",
      "text/plain": [
       "<Figure size 800x575 with 4 Axes>"
      ]
     },
     "metadata": {},
     "output_type": "display_data"
    }
   ],
   "source": [
    "mpf.plot(ploting_test_data,type='line', volume=True)"
   ]
  },
  {
   "cell_type": "markdown",
   "id": "a4d55e2d-7482-4e4b-82ff-5a754000cd5c",
   "metadata": {},
   "source": [
    "### Regression Analysis"
   ]
  },
  {
   "cell_type": "code",
   "execution_count": 26,
   "id": "099d1ddf-0b7f-4f1e-8b1d-e346d366e998",
   "metadata": {},
   "outputs": [],
   "source": [
    "from sklearn.linear_model import LinearRegression"
   ]
  },
  {
   "cell_type": "code",
   "execution_count": 34,
   "id": "be48a3c6-212a-4499-89c6-e0eea1019ad4",
   "metadata": {},
   "outputs": [
    {
     "data": {
      "text/plain": [
       "(3523,)"
      ]
     },
     "execution_count": 34,
     "metadata": {},
     "output_type": "execute_result"
    }
   ],
   "source": [
    "train_data_date.shape"
   ]
  },
  {
   "cell_type": "code",
   "execution_count": 40,
   "id": "d0b4d577-0eaa-4463-8f0e-a182d32b0d39",
   "metadata": {},
   "outputs": [],
   "source": [
    "x_matrix = train_data_date_numerical.values.reshape(-1,1)\n",
    "y_matrix = train_data ['Close']"
   ]
  },
  {
   "cell_type": "code",
   "execution_count": 41,
   "id": "78b83010-a279-44c8-8571-e7dea79bb792",
   "metadata": {},
   "outputs": [],
   "source": [
    "reg = LinearRegression()"
   ]
  },
  {
   "cell_type": "code",
   "execution_count": 42,
   "id": "bb0bfab6-c79a-442f-b17c-ef2cad014edc",
   "metadata": {},
   "outputs": [
    {
     "data": {
      "text/plain": [
       "LinearRegression()"
      ]
     },
     "execution_count": 42,
     "metadata": {},
     "output_type": "execute_result"
    }
   ],
   "source": [
    "reg.fit(x_matrix, y_matrix)"
   ]
  },
  {
   "cell_type": "code",
   "execution_count": 43,
   "id": "da30ba74-376d-40b4-a96a-acfe1df6bc61",
   "metadata": {},
   "outputs": [
    {
     "data": {
      "text/plain": [
       "0.8917283718094867"
      ]
     },
     "execution_count": 43,
     "metadata": {},
     "output_type": "execute_result"
    }
   ],
   "source": [
    "# this is the r-squared error\n",
    "reg.score(x_matrix, y_matrix)"
   ]
  },
  {
   "cell_type": "code",
   "execution_count": 44,
   "id": "34cfc9a5-3103-4884-9d6b-0a19641094be",
   "metadata": {},
   "outputs": [
    {
     "data": {
      "text/plain": [
       "array([0.03534672])"
      ]
     },
     "execution_count": 44,
     "metadata": {},
     "output_type": "execute_result"
    }
   ],
   "source": [
    "reg.coef_"
   ]
  },
  {
   "cell_type": "code",
   "execution_count": 46,
   "id": "d25dbf4e-f91b-4078-88de-5d5e7cd2e637",
   "metadata": {},
   "outputs": [
    {
     "data": {
      "text/plain": [
       "-25892.897581806985"
      ]
     },
     "execution_count": 46,
     "metadata": {},
     "output_type": "execute_result"
    }
   ],
   "source": [
    "# this is the constant\n",
    "reg.intercept_"
   ]
  },
  {
   "cell_type": "code",
   "execution_count": 66,
   "id": "89dec5e2-21ac-4c21-9b0f-281afec9f89a",
   "metadata": {},
   "outputs": [],
   "source": [
    "# predict\n",
    "predict_prices = reg.predict(all_data_date_numerical.values.reshape(-1,1))"
   ]
  },
  {
   "cell_type": "code",
   "execution_count": 67,
   "id": "f06b29fa-df29-4496-a8c8-76ab7270fe47",
   "metadata": {},
   "outputs": [
    {
     "data": {
      "image/png": "[encoded data removed]",
      "text/plain": [
       "<Figure size 640x480 with 1 Axes>"
      ]
     },
     "metadata": {},
     "output_type": "display_data"
    }
   ],
   "source": [
    "plt.plot(train_data_date,train_data['Close'], c = \"royalblue\", label ='train data')\n",
    "plt.plot(test_data_date,test_data['Close'], c = \"navy\" ,label ='test data')\n",
    "# Plot the regression line against the independent variable\n",
    "plt.plot(all_data_date,predict_prices, lw=1, c='red', label ='regression')\n",
    "plt.xlabel('Date', fontsize = 20)\n",
    "plt.ylabel('Close Price', fontsize = 20)\n",
    "plt.legend()\n",
    "plt.show()"
   ]
  },
  {
   "cell_type": "code",
   "execution_count": 68,
   "id": "66910671-20eb-45c4-8cb5-22534e0f2c48",
   "metadata": {},
   "outputs": [],
   "source": [
    "# multi variable linear regression\n",
    "reg2 = LinearRegression()"
   ]
  },
  {
   "cell_type": "code",
   "execution_count": 70,
   "id": "dcc159f6-5852-43e1-b99c-0019e4c855a3",
   "metadata": {},
   "outputs": [],
   "source": [
    "x_matrix = pd.concat([train_data_date_numerical, train_data ['Open']], axis = 1)\n",
    "y_matrix = train_data ['Close']"
   ]
  }
 ],
 "metadata": {
  "kernelspec": {
   "display_name": "Python 3 (ipykernel)",
   "language": "python",
   "name": "python3"
  },
  "language_info": {
   "codemirror_mode": {
    "name": "ipython",
    "version": 3
   },
   "file_extension": ".py",
   "mimetype": "text/x-python",
   "name": "python",
   "nbconvert_exporter": "python",
   "pygments_lexer": "ipython3",
   "version": "3.9.7"
  }
 },
 "nbformat": 4,
 "nbformat_minor": 5
}
